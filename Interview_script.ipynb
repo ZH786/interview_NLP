{
 "cells": [
  {
   "cell_type": "code",
   "execution_count": 95,
   "metadata": {},
   "outputs": [],
   "source": [
    "import requests\n",
    "import json\n",
    "from bs4 import BeautifulSoup\n",
    "import string\n",
    "import pandas as pd"
   ]
  },
  {
   "cell_type": "code",
   "execution_count": 9,
   "metadata": {},
   "outputs": [],
   "source": [
    "url_dict = {'Ben Shapiro' : 'https://scrapsfromtheloft.com/2019/06/01/ben-shapiro-the-entitlement-generation/',\n",
    "'Dustin Hoffman':'https://scrapsfromtheloft.com/2019/04/29/dustin-hoffman-interview-empire-2006/',\n",
    "'Bill Burr':'https://scrapsfromtheloft.com/2018/10/06/bill-burr-on-cucks-white-privilege-sjws-feminism-transcript/',\n",
    "'Jordan Peterson':'https://scrapsfromtheloft.com/2018/08/23/jordan-petersons-channel-4-interview-cathy-newman-transcript/',\n",
    "'Barack Obama':'https://scrapsfromtheloft.com/2018/08/15/president-obama-interview-real-time-with-bill-maher/',\n",
    "'Bertrand Russell':'https://scrapsfromtheloft.com/2019/02/02/a-conversation-with-bertrand-russell-1952/',\n",
    "'John Huston':'https://scrapsfromtheloft.com/2018/03/28/how-i-make-films-interview-john-huston-gideon-bachmann/',\n",
    "'Richard Dawkins':'https://scrapsfromtheloft.com/2018/01/02/richard-dawkins-playboy-interview-chip-rowe/',\n",
    "'James B. Harris':'https://scrapsfromtheloft.com/2018/02/16/james-b-harris-interview-2002/',\n",
    "'Robin Williams':'https://scrapsfromtheloft.com/2017/04/21/larry-king-interview-robin-williams-2007/',\n",
    "'Ingmar Bergman':'https://scrapsfromtheloft.com/2017/05/11/ingmar-bergman-playboy-interview-1964/',\n",
    "'Orson Welles':'https://scrapsfromtheloft.com/2017/05/19/orson-welles-playboy-interview/'}"
   ]
  },
  {
   "cell_type": "code",
   "execution_count": 77,
   "metadata": {},
   "outputs": [],
   "source": [
    "def scraper(url):\n",
    "    req = requests.get(url)\n",
    "    c = req.content\n",
    "    soup = BeautifulSoup(c, \"html.parser\")\n",
    "    all = soup.find(\"div\", {\"class\":\"post-content\"})\n",
    "    scrape=[sec.text.replace('\\n',' ') for sec in all.find_all(\"p\")]\n",
    "    return scrape"
   ]
  },
  {
   "cell_type": "code",
   "execution_count": 78,
   "metadata": {},
   "outputs": [],
   "source": [
    "urls = list(url_dict.values())"
   ]
  },
  {
   "cell_type": "code",
   "execution_count": 80,
   "metadata": {},
   "outputs": [],
   "source": [
    "interviews = [scraper(interv) for interv in urls]"
   ]
  },
  {
   "cell_type": "code",
   "execution_count": 89,
   "metadata": {},
   "outputs": [
    {
     "output_type": "execute_result",
     "data": {
      "text/plain": "['Ben Shapiro',\n 'Dustin Hoffman',\n 'Bill Burr',\n 'Jordan Peterson',\n 'Barack Obama',\n 'Bertrand Russell',\n 'John Huston',\n 'Richard Dawkins',\n 'James B. Harris',\n 'Robin Williams',\n 'Ingmar Bergman',\n 'Orson Welles']"
     },
     "metadata": {},
     "execution_count": 89
    }
   ],
   "source": [
    "#Transform into Pandas DataFrame\n",
    "candidate = [cadidate for cadidate in url_dict.keys()]\n",
    "candidate"
   ]
  },
  {
   "cell_type": "code",
   "execution_count": 108,
   "metadata": {},
   "outputs": [],
   "source": [
    "def delist(list_text):\n",
    "    delistd = ' '.join(list_text)\n",
    "    return delistd"
   ]
  },
  {
   "cell_type": "code",
   "execution_count": 109,
   "metadata": {},
   "outputs": [],
   "source": [
    "finalDict = {c:delist(i) for c,i in zip(candidate,interviews)}"
   ]
  },
  {
   "cell_type": "code",
   "execution_count": 114,
   "metadata": {},
   "outputs": [
    {
     "output_type": "error",
     "ename": "TypeError",
     "evalue": "from_dict() got an unexpected keyword argument 'index'",
     "traceback": [
      "\u001b[0;31m---------------------------------------------------------------------------\u001b[0m",
      "\u001b[0;31mTypeError\u001b[0m                                 Traceback (most recent call last)",
      "\u001b[0;32m<ipython-input-114-48742880ce70>\u001b[0m in \u001b[0;36m<module>\u001b[0;34m\u001b[0m\n\u001b[0;32m----> 1\u001b[0;31m \u001b[0mdf\u001b[0m \u001b[0;34m=\u001b[0m \u001b[0mpd\u001b[0m\u001b[0;34m.\u001b[0m\u001b[0mDataFrame\u001b[0m\u001b[0;34m.\u001b[0m\u001b[0mfrom_dict\u001b[0m\u001b[0;34m(\u001b[0m\u001b[0mfinalDict\u001b[0m\u001b[0;34m,\u001b[0m \u001b[0mindex\u001b[0m\u001b[0;34m=\u001b[0m\u001b[0;34m[\u001b[0m\u001b[0;36m0\u001b[0m\u001b[0;34m]\u001b[0m\u001b[0;34m)\u001b[0m\u001b[0;34m\u001b[0m\u001b[0;34m\u001b[0m\u001b[0m\n\u001b[0m",
      "\u001b[0;31mTypeError\u001b[0m: from_dict() got an unexpected keyword argument 'index'"
     ]
    }
   ],
   "source": [
    "df = pd.DataFrame.from_dict(finalDict)"
   ]
  },
  {
   "cell_type": "code",
   "execution_count": null,
   "metadata": {},
   "outputs": [],
   "source": []
  }
 ],
 "metadata": {
  "language_info": {
   "codemirror_mode": {
    "name": "ipython",
    "version": 3
   },
   "file_extension": ".py",
   "mimetype": "text/x-python",
   "name": "python",
   "nbconvert_exporter": "python",
   "pygments_lexer": "ipython3",
   "version": "3.7.6-final"
  },
  "orig_nbformat": 2,
  "kernelspec": {
   "name": "python3",
   "display_name": "Python 3"
  }
 },
 "nbformat": 4,
 "nbformat_minor": 2
}